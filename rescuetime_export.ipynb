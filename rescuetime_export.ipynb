{
 "cells": [
  {
   "cell_type": "code",
   "execution_count": null,
   "metadata": {},
   "outputs": [],
   "source": [
    "# noexport\n",
    "\n",
    "import os\n",
    "os.system('export_notebook rescuetime_export.ipynb')"
   ]
  },
  {
   "cell_type": "code",
   "execution_count": null,
   "metadata": {},
   "outputs": [],
   "source": []
  },
  {
   "cell_type": "code",
   "execution_count": 1,
   "metadata": {},
   "outputs": [],
   "source": [
    "try:\n",
    "  import ujson as json\n",
    "except:\n",
    "  import json\n",
    "import yaml\n",
    "from pymongo import MongoClient\n",
    "from urllib import urlopen\n",
    "import os\n",
    "from urlparse import urlparse\n",
    "\n",
    "secrets = yaml.load(open('.getsecret.yaml'))\n",
    "mongouri = secrets['MONGODB_URI']\n",
    "dbname = secrets['MONGODB_DBNAME']\n",
    "rescuetime_url = secrets['rescuetime_url']\n",
    "# heroku tmisurvey\n",
    "client = MongoClient(mongouri)\n",
    "#client = MongoClient()\n",
    "\n",
    "#db = client.default\n",
    "db = client[dbname]\n",
    "\n",
    "category_collection = db.category\n",
    "productivity_collection = db.productivity\n",
    "docactivity_collection = db.docactivity"
   ]
  },
  {
   "cell_type": "code",
   "execution_count": 2,
   "metadata": {
    "collapsed": true
   },
   "outputs": [],
   "source": [
    "def getval(collection, key):\n",
    "  val = collection.find_one(key)\n",
    "  if val == None:\n",
    "    return None\n",
    "  return val['val']\n",
    "\n",
    "def setval(collection, key, val):\n",
    "  collection.update_one({'_id': key}, {'$set': {'val': val}}, upsert=True)\n",
    "\n",
    "def getval_category(key):\n",
    "  return getval(category_collection, key)\n",
    "\n",
    "def setval_category(key, val):\n",
    "  setval(category_collection, key, val)\n",
    "\n",
    "def getval_productivity(key):\n",
    "  return getval(productivity_collection, key)\n",
    "\n",
    "def setval_productivity(key, val):\n",
    "  setval(productivity_collection, key, val)\n",
    "\n",
    "def get_key_set():\n",
    "  output = set()\n",
    "  for x in productivity_collection.find():\n",
    "    output.add(x['_id'])\n",
    "  return output\n"
   ]
  },
  {
   "cell_type": "code",
   "execution_count": 4,
   "metadata": {},
   "outputs": [],
   "source": [
    "#all_categories = set()\n",
    "\n",
    "#for x in category_collection.find():\n",
    "#  all_categories.add(x['val'])\n",
    "\n",
    "#print all_categories"
   ]
  },
  {
   "cell_type": "code",
   "execution_count": 10,
   "metadata": {},
   "outputs": [],
   "source": [
    "#print get_key_set()"
   ]
  },
  {
   "cell_type": "code",
   "execution_count": 11,
   "metadata": {},
   "outputs": [],
   "source": [
    "#for x in category_collection.find():\n",
    "#  print x['_id']\n",
    "\n",
    "#print setval_category('something.foo.with.a.period', 'sdfjkl')\n",
    "#print getval_category('something.foo.with.a.period')"
   ]
  },
  {
   "cell_type": "code",
   "execution_count": null,
   "metadata": {
    "collapsed": true
   },
   "outputs": [],
   "source": []
  },
  {
   "cell_type": "code",
   "execution_count": 12,
   "metadata": {
    "collapsed": true
   },
   "outputs": [],
   "source": [
    "import threading\n",
    "\n",
    "def set_interval(func, sec):\n",
    "    def func_wrapper():\n",
    "        set_interval(func, sec)\n",
    "    t = threading.Timer(sec, func_wrapper)\n",
    "    t.start()\n",
    "    return t"
   ]
  },
  {
   "cell_type": "code",
   "execution_count": null,
   "metadata": {},
   "outputs": [],
   "source": []
  },
  {
   "cell_type": "code",
   "execution_count": 23,
   "metadata": {
    "collapsed": true
   },
   "outputs": [],
   "source": [
    "all_domains = set(json.load(open('domains.json')))"
   ]
  },
  {
   "cell_type": "code",
   "execution_count": 25,
   "metadata": {},
   "outputs": [],
   "source": [
    "#print len(all_domains)"
   ]
  },
  {
   "cell_type": "code",
   "execution_count": 14,
   "metadata": {},
   "outputs": [],
   "source": [
    "#print dir(category_collection)"
   ]
  },
  {
   "cell_type": "code",
   "execution_count": 15,
   "metadata": {},
   "outputs": [
    {
     "name": "stdout",
     "output_type": "stream",
     "text": [
      "0\n"
     ]
    }
   ],
   "source": [
    "#print len(urlparse('The New York Times').netloc)"
   ]
  },
  {
   "cell_type": "code",
   "execution_count": 16,
   "metadata": {},
   "outputs": [],
   "source": [
    "\n",
    "def to_dict(data):\n",
    "  output = []\n",
    "  rows = data['rows']\n",
    "  row_headers = data['row_headers']\n",
    "  for row in rows:\n",
    "    output.append({row_headers[i]: x for i,x in enumerate(row)})\n",
    "  return output\n",
    "\n",
    "def check_rescuetime():\n",
    "  print '============================'\n",
    "  print 'check_rescuetime'\n",
    "  print '============================'\n",
    "  data_text = urlopen(rescuetime_url).read()\n",
    "  data = json.loads(data_text)\n",
    "  lines = to_dict(data)\n",
    "  category_bulk = category_collection.initialize_unordered_bulk_op()\n",
    "  productivity_bulk = productivity_collection.initialize_unordered_bulk_op()\n",
    "  docactivity_bulk = docactivity_collection.initialize_unordered_bulk_op()\n",
    "  for line in lines:\n",
    "    activity = line['Activity']\n",
    "    if activity.startswith('mobile - '):\n",
    "      activity = activity[len('mobile - '):]\n",
    "    new_activity = True\n",
    "    if activity in seen_domains:\n",
    "      new_activity = False\n",
    "    category = line['Category']\n",
    "    productivity = line['Productivity']\n",
    "    if new_activity:\n",
    "      category_bulk.find({'_id': activity}).upsert().update_one({'$set': {'val': category}})\n",
    "      productivity_bulk.find({'_id': activity}).upsert().update_one({'$set': {'val': productivity}})\n",
    "      seen_domains.add(activity)\n",
    "    document = line['Document']\n",
    "    if not document or document == 'No Details':\n",
    "      continue\n",
    "    if not document.startswith('http'):\n",
    "      document = 'http://' + document\n",
    "    document_domain = urlparse(document).netloc\n",
    "    #print document_domain\n",
    "    if document_domain in seen_domains:\n",
    "      continue\n",
    "    if not document_domain:\n",
    "      continue\n",
    "    if document_domain == activity:\n",
    "      continue\n",
    "    category_bulk.find({'_id': document_domain}).upsert().update_one({'$set': {'val': category}})\n",
    "    productivity_bulk.find({'_id': document_domain}).upsert().update_one({'$set': {'val': productivity}})\n",
    "    docactivity_bulk.find({'_id': document_domain}).upsert().update_one({'$set': {'val': activity}})\n",
    "    seen_domains.add(document_domain)\n",
    "  try:\n",
    "    category_bulk.execute()\n",
    "  except:\n",
    "    pass\n",
    "  try:\n",
    "    productivity_bulk.execute()\n",
    "  except:\n",
    "    pass\n",
    "  try:\n",
    "    docactivity_bulk.execute()\n",
    "  except:\n",
    "    pass\n"
   ]
  },
  {
   "cell_type": "code",
   "execution_count": null,
   "metadata": {},
   "outputs": [],
   "source": []
  },
  {
   "cell_type": "code",
   "execution_count": 17,
   "metadata": {
    "collapsed": true
   },
   "outputs": [],
   "source": [
    "#set_interval(check_rescuetime, 2+60*3)\n",
    "#set_interval(check_rescuetime, 10)"
   ]
  },
  {
   "cell_type": "code",
   "execution_count": 26,
   "metadata": {},
   "outputs": [
    {
     "name": "stdout",
     "output_type": "stream",
     "text": [
      "++++++++++++++++++++++++++++\n",
      "set_seen_domains\n",
      "++++++++++++++++++++++++++++\n"
     ]
    }
   ],
   "source": [
    "seen_domains = set()\n",
    "\n",
    "def set_seen_domains():\n",
    "  print '++++++++++++++++++++++++++++'\n",
    "  print 'set_seen_domains'\n",
    "  print '++++++++++++++++++++++++++++'\n",
    "  global seen_domains\n",
    "  global all_domains\n",
    "  seen_domains = get_key_set()\n",
    "\n",
    "  for x in ['']:\n",
    "    if x in all_domains:\n",
    "      all_domains.remove(x)\n",
    "\n",
    "  for x in seen_domains:\n",
    "    if x in all_domains:\n",
    "      all_domains.remove(x)\n",
    "    wx = 'www.' + x\n",
    "    if wx in all_domains:\n",
    "      all_domains.remove(wx)\n",
    "\n",
    "set_seen_domains()"
   ]
  },
  {
   "cell_type": "code",
   "execution_count": 20,
   "metadata": {},
   "outputs": [],
   "source": [
    "#check_rescuetime()\n",
    "#seen_domains = set()\n",
    "#set_seen_domains()\n",
    "#print seen_domains"
   ]
  },
  {
   "cell_type": "code",
   "execution_count": null,
   "metadata": {},
   "outputs": [],
   "source": [
    "#print len(seen_domains)\n",
    "#print len(all_domains)\n",
    "#print all_domains"
   ]
  },
  {
   "cell_type": "code",
   "execution_count": null,
   "metadata": {},
   "outputs": [],
   "source": []
  },
  {
   "cell_type": "code",
   "execution_count": 31,
   "metadata": {},
   "outputs": [
    {
     "name": "stdout",
     "output_type": "stream",
     "text": [
      "-2\n"
     ]
    }
   ],
   "source": [
    "#for x in all_domains:\n",
    "\n",
    "\n",
    "#print apidock"
   ]
  },
  {
   "cell_type": "code",
   "execution_count": 73,
   "metadata": {},
   "outputs": [],
   "source": [
    "#check_rescuetime()"
   ]
  },
  {
   "cell_type": "code",
   "execution_count": null,
   "metadata": {},
   "outputs": [],
   "source": []
  },
  {
   "cell_type": "code",
   "execution_count": 64,
   "metadata": {},
   "outputs": [],
   "source": [
    "#print seen_domains"
   ]
  },
  {
   "cell_type": "code",
   "execution_count": 63,
   "metadata": {},
   "outputs": [],
   "source": [
    "#print all_domains"
   ]
  },
  {
   "cell_type": "code",
   "execution_count": 66,
   "metadata": {
    "collapsed": true
   },
   "outputs": [],
   "source": [
    "import random\n",
    "\n",
    "def shuffled(l):\n",
    "  l = l[:]\n",
    "  random.shuffle(l)\n",
    "  return l"
   ]
  },
  {
   "cell_type": "code",
   "execution_count": 10,
   "metadata": {},
   "outputs": [],
   "source": [
    "import pyautogui\n",
    "import time\n",
    "import webbrowser\n",
    "\n",
    "# google chrome version\n",
    "'''\n",
    "last_check_rescuetime = 0\n",
    "last_update_seen_domains = time.time()\n",
    "open_tabs = 0\n",
    "while len(all_domains) > 0:\n",
    "  for domain in shuffled(list(all_domains)):\n",
    "    try:\n",
    "      if time.time() > last_check_rescuetime + 125:\n",
    "        last_check_rescuetime = time.time()\n",
    "        check_rescuetime()\n",
    "      if time.time() > last_update_seen_domains + 2000:\n",
    "        last_update_seen_domains = time.time()\n",
    "        set_seen_domains()\n",
    "      if domain in seen_domains:\n",
    "        if domain in all_domains:\n",
    "          all_domains.remove(domain)\n",
    "        continue\n",
    "      if domain.startswith('www.'):\n",
    "        no_www_domain = domain[4:]\n",
    "        if no_www_domain in seen_domains:\n",
    "          if domain in all_domains:\n",
    "            all_domains.remove(domain)\n",
    "          if no_www_domain in all_domains:\n",
    "            all_domains.remove(no_www_domain)\n",
    "          continue\n",
    "      #print domain\n",
    "      webbrowser.open_new_tab('http://' + domain)\n",
    "      time.sleep(1)\n",
    "      open_tabs += 1\n",
    "      if open_tabs >= 20:\n",
    "        #pyautogui.hotkey('command', '1')\n",
    "        #pyautogui.hotkey('ctrlleft', '1')\n",
    "        time.sleep(1)\n",
    "        #pyautogui.hotkey('ctrlleft', 'q')\n",
    "        if os.name == 'nt':\n",
    "          pyautogui.hotkey('altleft', 'f4')\n",
    "        else:\n",
    "          pyautogui.hotkey('command', 'q')\n",
    "        time.sleep(1)\n",
    "        pyautogui.hotkey('left')\n",
    "        time.sleep(0.1)\n",
    "        pyautogui.hotkey('enter')\n",
    "        webbrowser.open_new_tab('http://www.google.com')\n",
    "        #pyautogui.hotkey('ctrlleft', 'shift', 'e')\n",
    "        time.sleep(3)\n",
    "        open_tabs = 0\n",
    "    except:\n",
    "      pass\n",
    "'''"
   ]
  },
  {
   "cell_type": "code",
   "execution_count": null,
   "metadata": {
    "collapsed": true
   },
   "outputs": [],
   "source": [
    "# firefox version\n",
    "last_check_rescuetime = 0\n",
    "last_update_seen_domains = time.time()\n",
    "open_tabs = 0\n",
    "num_closes = 0\n",
    "while len(all_domains) > 0:\n",
    "  for domain in shuffled(list(all_domains)):\n",
    "    try:\n",
    "      if time.time() > last_check_rescuetime + 125:\n",
    "        last_check_rescuetime = time.time()\n",
    "        check_rescuetime()\n",
    "      if time.time() > last_update_seen_domains + 2000:\n",
    "        last_update_seen_domains = time.time()\n",
    "        set_seen_domains()\n",
    "      if domain in seen_domains:\n",
    "        if domain in all_domains:\n",
    "          all_domains.remove(domain)\n",
    "        continue\n",
    "      if domain.startswith('www.'):\n",
    "        no_www_domain = domain[4:]\n",
    "        if no_www_domain in seen_domains:\n",
    "          if domain in all_domains:\n",
    "            all_domains.remove(domain)\n",
    "          if no_www_domain in all_domains:\n",
    "            all_domains.remove(no_www_domain)\n",
    "          continue\n",
    "      #print domain\n",
    "      webbrowser.open_new_tab('http://' + domain)\n",
    "      time.sleep(1)\n",
    "      open_tabs += 1\n",
    "      tab_limit = 20\n",
    "      if os.name == 'nt':\n",
    "        tab_limit = 7\n",
    "      if open_tabs >= tab_limit:\n",
    "        #pyautogui.hotkey('command', '1')\n",
    "        #pyautogui.hotkey('ctrlleft', '1')\n",
    "        time.sleep(2)\n",
    "        #pyautogui.hotkey('ctrlleft', 'q')\n",
    "        if os.name == 'nt':\n",
    "          time.sleep(2)\n",
    "          pyautogui.hotkey('ctrl', 'shiftleft', 'f4')\n",
    "          time.sleep(2)\n",
    "        else:\n",
    "          pyautogui.hotkey('command', 'shiftleft', 'f4')\n",
    "        time.sleep(2)\n",
    "        open_tabs = 0\n",
    "        num_closes += 1\n",
    "        if num_closes >= 3:\n",
    "          if os.name == 'nt':\n",
    "            pyautogui.hotkey('altleft', 'f4')\n",
    "            time.sleep(2)\n",
    "            pyautogui.hotkey('enter')\n",
    "          else:\n",
    "            pyautogui.hotkey('command', 'q')\n",
    "            time.sleep(2)\n",
    "            pyautogui.hotkey('enter')\n",
    "          time.sleep(4)\n",
    "          webbrowser.open_new_tab('http://www.google.com')\n",
    "          time.sleep(4)\n",
    "          num_closes = 0\n",
    "    except:\n",
    "      pass"
   ]
  },
  {
   "cell_type": "code",
   "execution_count": 3,
   "metadata": {},
   "outputs": [],
   "source": [
    "#def print_hello():\n",
    "#  print 'hello world'\n",
    "\n",
    "#set_interval(print_hello, 10)"
   ]
  },
  {
   "cell_type": "code",
   "execution_count": null,
   "metadata": {},
   "outputs": [],
   "source": []
  },
  {
   "cell_type": "code",
   "execution_count": null,
   "metadata": {
    "collapsed": true
   },
   "outputs": [],
   "source": []
  },
  {
   "cell_type": "code",
   "execution_count": 2,
   "metadata": {},
   "outputs": [],
   "source": [
    "\n",
    "#rows = data['rows']\n",
    "#row_headers = data['row_headers']\n",
    "#print row_headers\n",
    "#print to_dict(data)\n",
    "#for line in to_dict(data):\n",
    "#  print line['Activity'], line['Category'], line['Productivity']\n",
    "#print rows[0]"
   ]
  },
  {
   "cell_type": "code",
   "execution_count": 4,
   "metadata": {},
   "outputs": [],
   "source": [
    "#print setval('foo', 10)\n",
    "#print getval('foo')\n",
    "#print getval('bar')"
   ]
  }
 ],
 "metadata": {
  "kernelspec": {
   "display_name": "Python 3",
   "language": "python",
   "name": "python3"
  },
  "language_info": {
   "codemirror_mode": {
    "name": "ipython",
    "version": 2
   },
   "file_extension": ".py",
   "mimetype": "text/x-python",
   "name": "python",
   "nbconvert_exporter": "python",
   "pygments_lexer": "ipython2",
   "version": "2.7.11"
  }
 },
 "nbformat": 4,
 "nbformat_minor": 1
}
